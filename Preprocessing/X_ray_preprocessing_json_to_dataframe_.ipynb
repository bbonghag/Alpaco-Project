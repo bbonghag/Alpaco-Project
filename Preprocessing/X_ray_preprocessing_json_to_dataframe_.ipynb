{
  "nbformat": 4,
  "nbformat_minor": 0,
  "metadata": {
    "colab": {
      "provenance": [],
      "collapsed_sections": [],
      "toc_visible": true,
      "machine_shape": "hm"
    },
    "kernelspec": {
      "name": "python3",
      "display_name": "Python 3"
    },
    "language_info": {
      "name": "python"
    },
    "gpuClass": "standard",
    "accelerator": "GPU"
  },
  "cells": [
    {
      "cell_type": "code",
      "source": [
        "import pandas as pd\n",
        "import numpy as np\n",
        "import os\n",
        "import json"
      ],
      "metadata": {
        "id": "KRaj_CxFsmPT"
      },
      "execution_count": 1,
      "outputs": []
    },
    {
      "cell_type": "markdown",
      "source": [
        "# Dataset-b 다운로드"
      ],
      "metadata": {
        "id": "B7NR0UIT2DyB"
      }
    },
    {
      "cell_type": "code",
      "source": [
        "!gdown https://drive.google.com/uc?id=1pIQxkhetz9o2n5DsebKQBz0EwM8-IefV\n",
        "!unzip ./cocoset_b.zip\n",
        "!rm ./cocoset_b.zip"
      ],
      "metadata": {
        "id": "tBL2mDziqwnw"
      },
      "execution_count": null,
      "outputs": []
    },
    {
      "cell_type": "code",
      "source": [
        "with open('/content/content/YOLO2COCO/dataset/YOLOV5_COCO_format/annotations/instances_train2017.json', 'r') as f:\n",
        "    train_json = json.load(f)\n",
        "\n",
        "with open('/content/content/YOLO2COCO/dataset/YOLOV5_COCO_format/annotations/instances_val2017.json', 'r') as f:\n",
        "    val_json = json.load(f)    "
      ],
      "metadata": {
        "id": "y7ViGJ0Fzxc-"
      },
      "execution_count": 3,
      "outputs": []
    },
    {
      "cell_type": "code",
      "source": [
        "train_json.keys()"
      ],
      "metadata": {
        "colab": {
          "base_uri": "https://localhost:8080/"
        },
        "id": "_hbqR7l54mKZ",
        "outputId": "53b1102a-27ae-4a75-aaea-94d10283ad95"
      },
      "execution_count": 5,
      "outputs": [
        {
          "output_type": "execute_result",
          "data": {
            "text/plain": [
              "dict_keys(['info', 'images', 'licenses', 'type', 'annotations', 'categories'])"
            ]
          },
          "metadata": {},
          "execution_count": 5
        }
      ]
    },
    {
      "cell_type": "code",
      "source": [
        "train_json['images'][-1]"
      ],
      "metadata": {
        "colab": {
          "base_uri": "https://localhost:8080/"
        },
        "id": "LMK89Bav6GG1",
        "outputId": "50405499-5e7c-4881-c949-6c94a3c254fc"
      },
      "execution_count": 18,
      "outputs": [
        {
          "output_type": "execute_result",
          "data": {
            "text/plain": [
              "{'date_captured': '2021',\n",
              " 'file_name': '000000012304.jpg',\n",
              " 'id': 12304,\n",
              " 'height': 512,\n",
              " 'width': 512}"
            ]
          },
          "metadata": {},
          "execution_count": 18
        }
      ]
    },
    {
      "cell_type": "code",
      "source": [
        "train_json['annotations'][-1]"
      ],
      "metadata": {
        "colab": {
          "base_uri": "https://localhost:8080/"
        },
        "id": "i02ZbAUh6Ji_",
        "outputId": "de733bbb-0ad1-4009-9705-d20d78f52c5b"
      },
      "execution_count": 19,
      "outputs": [
        {
          "output_type": "execute_result",
          "data": {
            "text/plain": [
              "{'segmentation': [[172.0, 148.0, 228.0, 148.0, 228.0, 204.0, 172.0, 204.0]],\n",
              " 'area': 3136.0,\n",
              " 'iscrowd': 0,\n",
              " 'image_id': 12304,\n",
              " 'bbox': [172.0, 148.0, 56.0, 56.0],\n",
              " 'category_id': 1,\n",
              " 'id': 101140}"
            ]
          },
          "metadata": {},
          "execution_count": 19
        }
      ]
    },
    {
      "cell_type": "markdown",
      "source": [
        "train_json['images']의 'id'와 train_json['annotations']의 image_id가 같음을 이용해서 하나의 이미지에 대해 여러개의 라벨들, annotations을 매칭시킴이 중요.\n",
        "\n",
        "=> 훈련셋 이미지는 12304장, annotation(bbox 좌표) = 라벨은 101140개"
      ],
      "metadata": {
        "id": "6UIKXhIg6tXp"
      }
    },
    {
      "cell_type": "markdown",
      "source": [
        "# Dataset-d 다운로드"
      ],
      "metadata": {
        "id": "Ok5Nr9kILcsJ"
      }
    },
    {
      "cell_type": "code",
      "source": [
        "!gdown https://drive.google.com/uc?id=1-CB-vkgEtsyt83QFxncDcLui48l4KPLz\n",
        "!unzip /content/coco_dataset_d.zip\n",
        "!rm /content/coco_dataset_d.zip"
      ],
      "metadata": {
        "id": "eZYkKYV1KzXA"
      },
      "execution_count": null,
      "outputs": []
    },
    {
      "cell_type": "code",
      "source": [
        "with open('/content/content/YOLOV5_COCO_format/annotations/instances_train2017.json', 'r') as f:\n",
        "    train_json = json.load(f)\n",
        "\n",
        "with open('/content/content/YOLOV5_COCO_format/annotations/instances_val2017.json', 'r') as f:\n",
        "    val_json = json.load(f)    "
      ],
      "metadata": {
        "id": "V9blCl66apeh"
      },
      "execution_count": null,
      "outputs": []
    },
    {
      "cell_type": "markdown",
      "source": [
        "# 데이터셋 생성 (json-to-dataframe)"
      ],
      "metadata": {
        "id": "1z1mUj_pdA9k"
      }
    },
    {
      "cell_type": "markdown",
      "source": [
        "- 데이터프레임을 만들어준 이유 : 모델 훈련에 데이터프레임 형태로 훈련셋을 넣기에 COCO형태의 Json 파일에서 필요한 내용들만 뽑아서 데이터프레임으로 만들어줌.\n",
        "\n",
        "- 주의할 점 : 단일 이미지에 대해 다중 라벨이므로 하나에 이미지에 대해 각각의 라벨들이 매칭되도록 만들어야함."
      ],
      "metadata": {
        "id": "1XsThyKR5nTM"
      }
    },
    {
      "cell_type": "code",
      "source": [
        "templist = os.listdir('/content/content/YOLO2COCO/dataset/YOLOV5_COCO_format/val2017/') # dataset-b\n",
        "# templist = os.listdir('/content/content/YOLOV5_COCO_format/val2017') # dataset-d\n",
        "newlist = []\n",
        "for i in templist:\n",
        "  id = i.split('.')[0]\n",
        "  newlist.append(id+'_val.jpg')"
      ],
      "metadata": {
        "id": "ujrCO-TqdOnb"
      },
      "execution_count": null,
      "outputs": []
    },
    {
      "cell_type": "code",
      "source": [
        "for i in templist:\n",
        "  os.rename('/content/content/YOLO2COCO/dataset/YOLOV5_COCO_format/val2017/'+i, '/content/content/YOLO2COCO/dataset/YOLOV5_COCO_format/val2017/'+i.split('.')[0]+'_val.jpg') # dataset-b\n",
        "#   os.rename('/content/content/YOLOV5_COCO_format/val2017/'+i, '/content/content/YOLOV5_COCO_format/val2017/'+i.split('.')[0]+'_val.jpg') # dataset-d"
      ],
      "metadata": {
        "id": "nwdzvVehdgSB"
      },
      "execution_count": null,
      "outputs": []
    },
    {
      "cell_type": "code",
      "source": [
        "%mv /content/content/YOLO2COCO/dataset/YOLOV5_COCO_format/val2017/* /content/content/YOLO2COCO/dataset/YOLOV5_COCO_format/train2017/ # dataset-b\n",
        "# %mv /content/content/YOLOV5_COCO_format/val2017/* /content/content/YOLOV5_COCO_format/train2017/ # dataset-d\n",
        "\n",
        "!rm -r /content/content/YOLO2COCO/dataset/YOLOV5_COCO_format/val2017  # dataset-b\n",
        "# !rm -r /content/content/YOLOV5_COCO_format/val2017 # dataset-d"
      ],
      "metadata": {
        "id": "_8Mf20Lzd41X"
      },
      "execution_count": null,
      "outputs": []
    },
    {
      "cell_type": "markdown",
      "source": [
        "직접 만든 코드"
      ],
      "metadata": {
        "id": "lbgP8EY_z6-N"
      }
    },
    {
      "cell_type": "code",
      "source": [
        "# annotations id리스트 생성 \n",
        "\n",
        "train_animg_id = []\n",
        "for i in range(len(train_json['annotations'])):\n",
        "    for j,k in train_json['annotations'][i].items():\n",
        "        # img_id_list.append(j['image_id'])\n",
        "        if j == 'image_id':\n",
        "            # print(k)\n",
        "            train_animg_id.append(k)\n",
        "            \n",
        "val_animg_id = []\n",
        "for i in range(len(val_json['annotations'])):\n",
        "    for j,k in val_json['annotations'][i].items():\n",
        "        # img_id_list.append(j['image_id'])\n",
        "        if j == 'image_id':\n",
        "            # print(k)\n",
        "            val_animg_id.append(k)\n",
        "\n",
        "\n",
        "# id:image_id 딕셔너리 생성 \n",
        "train_img_id, val_img_id  = [],[]\n",
        "train_img_filename, val_img_filename = [], []\n",
        "for i in range(len(train_json['images'])):\n",
        "    for j,k in train_json['images'][i].items():\n",
        "        # print(j,k)\n",
        "        if j == 'id':\n",
        "            train_img_id.append(k)\n",
        "        elif j == 'file_name':\n",
        "            train_img_filename.append(k)\n",
        "            \n",
        "\n",
        "for i in range(len(val_json['images'])):\n",
        "    for j,k in val_json['images'][i].items():\n",
        "        # print(j,k)\n",
        "        if j == 'id':\n",
        "            val_img_id.append(k)\n",
        "        elif j == 'file_name':\n",
        "            name = k.split('.')[0] + '_val.jpg'\n",
        "            val_img_filename.append(name)\n",
        "            \n",
        "train_img = { name:value for name, value in zip(train_img_id, train_img_filename) }\n",
        "val_img = { name:value for name, value in zip(val_img_id, val_img_filename) }"
      ],
      "metadata": {
        "id": "kIwmLtSiY3Ew"
      },
      "execution_count": null,
      "outputs": []
    },
    {
      "cell_type": "code",
      "source": [
        "train_dic = {'image_id' : [], # = 'file_name'\n",
        "             'class_id' : [], # = 'category_id'\n",
        "             'image_path' : [], # file_name에 주소 추가해서 만들어주기 \n",
        "             'xmin' : [],\n",
        "             'ymin' : [],\n",
        "             'xmax' : [],\n",
        "             'ymax' : []}\n",
        "\n",
        "val_dic = {  'image_id' : [], # = 'file_name'\n",
        "             'class_id' : [], # = 'category_id'\n",
        "             'image_path' : [], # file_name에 주소 추가해서 만들어주기 \n",
        "             'xmin' : [],\n",
        "             'ymin' : [],\n",
        "             'xmax' : [],\n",
        "             'ymax' : []}\n",
        "\n",
        "\n",
        "# class_id, bbox 추가 \n",
        "for i in range(len(train_json['annotations'])):\n",
        "    for j,k in train_json['annotations'][i].items():\n",
        "        if j == 'bbox':\n",
        "            x_min = k[0]- k[2]/2\n",
        "            if x_min < 0:\n",
        "                x_min = 0\n",
        "            y_min = k[1]- k[3]/2\n",
        "            if y_min < 0:\n",
        "                y_min = 0\n",
        "            x_max = k[0]+ k[2]/2\n",
        "            if x_max < 0:\n",
        "                x_max = 0\n",
        "            y_max = k[1]+ k[3]/2\n",
        "            if y_max<0:\n",
        "                y_max = 0\n",
        "\n",
        "            train_dic['xmin'].append(x_min)\n",
        "            train_dic['ymin'].append(y_min)\n",
        "            train_dic['xmax'].append(x_max)\n",
        "            train_dic['ymax'].append(y_max)\n",
        "        \n",
        "        elif j == 'category_id':\n",
        "            train_dic['class_id'].append(k)\n",
        "        \n",
        "        # if j == 'image_id':\n",
        "        #     # print(k)\n",
        "        #     train_dic['image_id'].append(k)\n",
        "        \n",
        "for i in range(len(val_json['annotations'])):\n",
        "    for j,k in val_json['annotations'][i].items():\n",
        "        if j == 'bbox':\n",
        "            x_min = k[0]- k[2]/2\n",
        "            if x_min < 0:\n",
        "                x_min = 0\n",
        "            y_min = k[1]- k[3]/2\n",
        "            if y_min < 0:\n",
        "                y_min = 0\n",
        "            x_max = k[0]+ k[2]/2\n",
        "            if x_max < 0:\n",
        "                x_max = 0\n",
        "            y_max = k[1]+ k[3]/2\n",
        "            if y_max<0:\n",
        "                y_max = 0\n",
        "            \n",
        "            # min_max = [x_min, y_min, x_max, y_max]\n",
        "            # val_dic['bbox'].append(min_max)\n",
        "            \n",
        "            val_dic['xmin'].append(x_min)\n",
        "            val_dic['ymin'].append(y_min)\n",
        "            val_dic['xmax'].append(x_max)\n",
        "            val_dic['ymax'].append(y_max)\n",
        "\n",
        "        elif j == 'category_id':\n",
        "            val_dic['class_id'].append(k)\n",
        "\n",
        "\n",
        "\n",
        "# image_id, image_path 추가 \n",
        "train_dir = '/content/content/YOLO2COCO/dataset/YOLOV5_COCO_format/train2017/'\n",
        "\n",
        "\n",
        "for i in train_animg_id:\n",
        "    train_dic['image_id'].append(train_img.get(i))\n",
        "    train_dic['image_path'].append(train_dir + train_img.get(i))   \n",
        "\n",
        "for i in val_animg_id:\n",
        "    val_dic['image_id'].append(val_img.get(i))\n",
        "    val_dic['image_path'].append(train_dir + val_img.get(i))   \n",
        "\n",
        "     \n"
      ],
      "metadata": {
        "id": "A_mge2G7Y3CO"
      },
      "execution_count": null,
      "outputs": []
    },
    {
      "cell_type": "code",
      "source": [
        "train_df = pd.DataFrame(train_dic)\n",
        "val_df = pd.DataFrame(val_dic)\n",
        "train_df = pd.concat([train_df, val_df], axis=0).reset_index().drop('index', axis=1)\n",
        "train_df"
      ],
      "metadata": {
        "id": "0FwTMQYb9Wui",
        "colab": {
          "base_uri": "https://localhost:8080/",
          "height": 488
        },
        "outputId": "dfbff43b-6132-444d-f33d-4c60b3d870fe"
      },
      "execution_count": null,
      "outputs": [
        {
          "output_type": "execute_result",
          "data": {
            "text/plain": [
              "                    image_id  class_id  \\\n",
              "0           000000000001.jpg        12   \n",
              "1           000000000001.jpg         1   \n",
              "2           000000000001.jpg         4   \n",
              "3           000000000001.jpg         4   \n",
              "4           000000000001.jpg         1   \n",
              "...                      ...       ...   \n",
              "144379  000000005272_val.jpg         4   \n",
              "144380  000000005272_val.jpg         1   \n",
              "144381  000000005272_val.jpg         1   \n",
              "144382  000000005272_val.jpg         4   \n",
              "144383  000000005272_val.jpg         1   \n",
              "\n",
              "                                               image_path        xmin  \\\n",
              "0       /content/content/YOLO2COCO/dataset/YOLOV5_COCO...  116.778616   \n",
              "1       /content/content/YOLO2COCO/dataset/YOLOV5_COCO...  214.095292   \n",
              "2       /content/content/YOLO2COCO/dataset/YOLOV5_COCO...   46.188259   \n",
              "3       /content/content/YOLO2COCO/dataset/YOLOV5_COCO...   52.481112   \n",
              "4       /content/content/YOLO2COCO/dataset/YOLOV5_COCO...  212.095292   \n",
              "...                                                   ...         ...   \n",
              "144379  /content/content/YOLO2COCO/dataset/YOLOV5_COCO...  108.315079   \n",
              "144380  /content/content/YOLO2COCO/dataset/YOLOV5_COCO...  246.205551   \n",
              "144381  /content/content/YOLO2COCO/dataset/YOLOV5_COCO...  280.198050   \n",
              "144382  /content/content/YOLO2COCO/dataset/YOLOV5_COCO...   90.550638   \n",
              "144383  /content/content/YOLO2COCO/dataset/YOLOV5_COCO...  258.304576   \n",
              "\n",
              "              ymin        xmax        ymax  \n",
              "0        34.730970  186.000000   62.000000  \n",
              "1        90.290528  298.000000  170.000000  \n",
              "2       248.680998  300.000000  320.000000  \n",
              "3       236.388145  300.000000  314.000000  \n",
              "4        88.290528  296.000000  168.000000  \n",
              "...            ...         ...         ...  \n",
              "144379   60.905434  169.386347  300.145486  \n",
              "144380  241.430894  328.402101  315.481386  \n",
              "144381  246.141207  346.262566  315.152760  \n",
              "144382   58.166881  168.714179  301.131365  \n",
              "144383  232.886607  337.044261  312.633291  \n",
              "\n",
              "[144384 rows x 7 columns]"
            ],
            "text/html": [
              "\n",
              "  <div id=\"df-1eb3ac29-5a0a-4c07-866c-864284ccb0a6\">\n",
              "    <div class=\"colab-df-container\">\n",
              "      <div>\n",
              "<style scoped>\n",
              "    .dataframe tbody tr th:only-of-type {\n",
              "        vertical-align: middle;\n",
              "    }\n",
              "\n",
              "    .dataframe tbody tr th {\n",
              "        vertical-align: top;\n",
              "    }\n",
              "\n",
              "    .dataframe thead th {\n",
              "        text-align: right;\n",
              "    }\n",
              "</style>\n",
              "<table border=\"1\" class=\"dataframe\">\n",
              "  <thead>\n",
              "    <tr style=\"text-align: right;\">\n",
              "      <th></th>\n",
              "      <th>image_id</th>\n",
              "      <th>class_id</th>\n",
              "      <th>image_path</th>\n",
              "      <th>xmin</th>\n",
              "      <th>ymin</th>\n",
              "      <th>xmax</th>\n",
              "      <th>ymax</th>\n",
              "    </tr>\n",
              "  </thead>\n",
              "  <tbody>\n",
              "    <tr>\n",
              "      <th>0</th>\n",
              "      <td>000000000001.jpg</td>\n",
              "      <td>12</td>\n",
              "      <td>/content/content/YOLO2COCO/dataset/YOLOV5_COCO...</td>\n",
              "      <td>116.778616</td>\n",
              "      <td>34.730970</td>\n",
              "      <td>186.000000</td>\n",
              "      <td>62.000000</td>\n",
              "    </tr>\n",
              "    <tr>\n",
              "      <th>1</th>\n",
              "      <td>000000000001.jpg</td>\n",
              "      <td>1</td>\n",
              "      <td>/content/content/YOLO2COCO/dataset/YOLOV5_COCO...</td>\n",
              "      <td>214.095292</td>\n",
              "      <td>90.290528</td>\n",
              "      <td>298.000000</td>\n",
              "      <td>170.000000</td>\n",
              "    </tr>\n",
              "    <tr>\n",
              "      <th>2</th>\n",
              "      <td>000000000001.jpg</td>\n",
              "      <td>4</td>\n",
              "      <td>/content/content/YOLO2COCO/dataset/YOLOV5_COCO...</td>\n",
              "      <td>46.188259</td>\n",
              "      <td>248.680998</td>\n",
              "      <td>300.000000</td>\n",
              "      <td>320.000000</td>\n",
              "    </tr>\n",
              "    <tr>\n",
              "      <th>3</th>\n",
              "      <td>000000000001.jpg</td>\n",
              "      <td>4</td>\n",
              "      <td>/content/content/YOLO2COCO/dataset/YOLOV5_COCO...</td>\n",
              "      <td>52.481112</td>\n",
              "      <td>236.388145</td>\n",
              "      <td>300.000000</td>\n",
              "      <td>314.000000</td>\n",
              "    </tr>\n",
              "    <tr>\n",
              "      <th>4</th>\n",
              "      <td>000000000001.jpg</td>\n",
              "      <td>1</td>\n",
              "      <td>/content/content/YOLO2COCO/dataset/YOLOV5_COCO...</td>\n",
              "      <td>212.095292</td>\n",
              "      <td>88.290528</td>\n",
              "      <td>296.000000</td>\n",
              "      <td>168.000000</td>\n",
              "    </tr>\n",
              "    <tr>\n",
              "      <th>...</th>\n",
              "      <td>...</td>\n",
              "      <td>...</td>\n",
              "      <td>...</td>\n",
              "      <td>...</td>\n",
              "      <td>...</td>\n",
              "      <td>...</td>\n",
              "      <td>...</td>\n",
              "    </tr>\n",
              "    <tr>\n",
              "      <th>144379</th>\n",
              "      <td>000000005272_val.jpg</td>\n",
              "      <td>4</td>\n",
              "      <td>/content/content/YOLO2COCO/dataset/YOLOV5_COCO...</td>\n",
              "      <td>108.315079</td>\n",
              "      <td>60.905434</td>\n",
              "      <td>169.386347</td>\n",
              "      <td>300.145486</td>\n",
              "    </tr>\n",
              "    <tr>\n",
              "      <th>144380</th>\n",
              "      <td>000000005272_val.jpg</td>\n",
              "      <td>1</td>\n",
              "      <td>/content/content/YOLO2COCO/dataset/YOLOV5_COCO...</td>\n",
              "      <td>246.205551</td>\n",
              "      <td>241.430894</td>\n",
              "      <td>328.402101</td>\n",
              "      <td>315.481386</td>\n",
              "    </tr>\n",
              "    <tr>\n",
              "      <th>144381</th>\n",
              "      <td>000000005272_val.jpg</td>\n",
              "      <td>1</td>\n",
              "      <td>/content/content/YOLO2COCO/dataset/YOLOV5_COCO...</td>\n",
              "      <td>280.198050</td>\n",
              "      <td>246.141207</td>\n",
              "      <td>346.262566</td>\n",
              "      <td>315.152760</td>\n",
              "    </tr>\n",
              "    <tr>\n",
              "      <th>144382</th>\n",
              "      <td>000000005272_val.jpg</td>\n",
              "      <td>4</td>\n",
              "      <td>/content/content/YOLO2COCO/dataset/YOLOV5_COCO...</td>\n",
              "      <td>90.550638</td>\n",
              "      <td>58.166881</td>\n",
              "      <td>168.714179</td>\n",
              "      <td>301.131365</td>\n",
              "    </tr>\n",
              "    <tr>\n",
              "      <th>144383</th>\n",
              "      <td>000000005272_val.jpg</td>\n",
              "      <td>1</td>\n",
              "      <td>/content/content/YOLO2COCO/dataset/YOLOV5_COCO...</td>\n",
              "      <td>258.304576</td>\n",
              "      <td>232.886607</td>\n",
              "      <td>337.044261</td>\n",
              "      <td>312.633291</td>\n",
              "    </tr>\n",
              "  </tbody>\n",
              "</table>\n",
              "<p>144384 rows × 7 columns</p>\n",
              "</div>\n",
              "      <button class=\"colab-df-convert\" onclick=\"convertToInteractive('df-1eb3ac29-5a0a-4c07-866c-864284ccb0a6')\"\n",
              "              title=\"Convert this dataframe to an interactive table.\"\n",
              "              style=\"display:none;\">\n",
              "        \n",
              "  <svg xmlns=\"http://www.w3.org/2000/svg\" height=\"24px\"viewBox=\"0 0 24 24\"\n",
              "       width=\"24px\">\n",
              "    <path d=\"M0 0h24v24H0V0z\" fill=\"none\"/>\n",
              "    <path d=\"M18.56 5.44l.94 2.06.94-2.06 2.06-.94-2.06-.94-.94-2.06-.94 2.06-2.06.94zm-11 1L8.5 8.5l.94-2.06 2.06-.94-2.06-.94L8.5 2.5l-.94 2.06-2.06.94zm10 10l.94 2.06.94-2.06 2.06-.94-2.06-.94-.94-2.06-.94 2.06-2.06.94z\"/><path d=\"M17.41 7.96l-1.37-1.37c-.4-.4-.92-.59-1.43-.59-.52 0-1.04.2-1.43.59L10.3 9.45l-7.72 7.72c-.78.78-.78 2.05 0 2.83L4 21.41c.39.39.9.59 1.41.59.51 0 1.02-.2 1.41-.59l7.78-7.78 2.81-2.81c.8-.78.8-2.07 0-2.86zM5.41 20L4 18.59l7.72-7.72 1.47 1.35L5.41 20z\"/>\n",
              "  </svg>\n",
              "      </button>\n",
              "      \n",
              "  <style>\n",
              "    .colab-df-container {\n",
              "      display:flex;\n",
              "      flex-wrap:wrap;\n",
              "      gap: 12px;\n",
              "    }\n",
              "\n",
              "    .colab-df-convert {\n",
              "      background-color: #E8F0FE;\n",
              "      border: none;\n",
              "      border-radius: 50%;\n",
              "      cursor: pointer;\n",
              "      display: none;\n",
              "      fill: #1967D2;\n",
              "      height: 32px;\n",
              "      padding: 0 0 0 0;\n",
              "      width: 32px;\n",
              "    }\n",
              "\n",
              "    .colab-df-convert:hover {\n",
              "      background-color: #E2EBFA;\n",
              "      box-shadow: 0px 1px 2px rgba(60, 64, 67, 0.3), 0px 1px 3px 1px rgba(60, 64, 67, 0.15);\n",
              "      fill: #174EA6;\n",
              "    }\n",
              "\n",
              "    [theme=dark] .colab-df-convert {\n",
              "      background-color: #3B4455;\n",
              "      fill: #D2E3FC;\n",
              "    }\n",
              "\n",
              "    [theme=dark] .colab-df-convert:hover {\n",
              "      background-color: #434B5C;\n",
              "      box-shadow: 0px 1px 3px 1px rgba(0, 0, 0, 0.15);\n",
              "      filter: drop-shadow(0px 1px 2px rgba(0, 0, 0, 0.3));\n",
              "      fill: #FFFFFF;\n",
              "    }\n",
              "  </style>\n",
              "\n",
              "      <script>\n",
              "        const buttonEl =\n",
              "          document.querySelector('#df-1eb3ac29-5a0a-4c07-866c-864284ccb0a6 button.colab-df-convert');\n",
              "        buttonEl.style.display =\n",
              "          google.colab.kernel.accessAllowed ? 'block' : 'none';\n",
              "\n",
              "        async function convertToInteractive(key) {\n",
              "          const element = document.querySelector('#df-1eb3ac29-5a0a-4c07-866c-864284ccb0a6');\n",
              "          const dataTable =\n",
              "            await google.colab.kernel.invokeFunction('convertToInteractive',\n",
              "                                                     [key], {});\n",
              "          if (!dataTable) return;\n",
              "\n",
              "          const docLinkHtml = 'Like what you see? Visit the ' +\n",
              "            '<a target=\"_blank\" href=https://colab.research.google.com/notebooks/data_table.ipynb>data table notebook</a>'\n",
              "            + ' to learn more about interactive tables.';\n",
              "          element.innerHTML = '';\n",
              "          dataTable['output_type'] = 'display_data';\n",
              "          await google.colab.output.renderOutput(dataTable, element);\n",
              "          const docLink = document.createElement('div');\n",
              "          docLink.innerHTML = docLinkHtml;\n",
              "          element.appendChild(docLink);\n",
              "        }\n",
              "      </script>\n",
              "    </div>\n",
              "  </div>\n",
              "  "
            ]
          },
          "metadata": {},
          "execution_count": 79
        }
      ]
    },
    {
      "cell_type": "code",
      "source": [
        "# 바운딩박스 좌표에 음수 여부 검수용 \n",
        "for i in range(len(train_json['annotations'])):\n",
        "    for j,k in train_json['annotations'][i].items():\n",
        "        if j == 'bbox':\n",
        "            for box in k:\n",
        "                if box < 0:\n",
        "                    print('error')"
      ],
      "metadata": {
        "id": "bAcFIuS8Zuxv"
      },
      "execution_count": null,
      "outputs": []
    }
  ]
}