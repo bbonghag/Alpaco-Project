{
  "nbformat": 4,
  "nbformat_minor": 0,
  "metadata": {
    "colab": {
      "provenance": []
    },
    "kernelspec": {
      "name": "python3",
      "display_name": "Python 3"
    },
    "language_info": {
      "name": "python"
    },
    "gpuClass": "standard"
  },
  "cells": [
    {
      "cell_type": "markdown",
      "source": [
        "# 데이터 및 라이브러리 셋팅"
      ],
      "metadata": {
        "id": "ejiH-qlTdz7_"
      }
    },
    {
      "cell_type": "markdown",
      "source": [
        "gdown or 캐글 데이터 다운 "
      ],
      "metadata": {
        "id": "HheqO9PKd8Lv"
      }
    },
    {
      "cell_type": "code",
      "execution_count": null,
      "metadata": {
        "id": "iUnI9c7EdYYl"
      },
      "outputs": [],
      "source": [
        "pip install kaggle"
      ]
    },
    {
      "cell_type": "code",
      "source": [
        "from google.colab import files\n",
        "files.upload()"
      ],
      "metadata": {
        "id": "gqPRsnwceCrl"
      },
      "execution_count": null,
      "outputs": []
    },
    {
      "cell_type": "code",
      "source": [
        "!mkdir -p ~/.kaggle\n",
        "!cp kaggle.json ~/.kaggle/\n",
        "!chmod 600 ~/.kaggle/kaggle.json"
      ],
      "metadata": {
        "id": "KVoD-an9eCpI"
      },
      "execution_count": 3,
      "outputs": []
    },
    {
      "cell_type": "markdown",
      "source": [
        "예제 데이터(X-ray) - 변환을 원하는 이미지 다운로드하기"
      ],
      "metadata": {
        "id": "Hcc7R78hgnv4"
      }
    },
    {
      "cell_type": "code",
      "source": [
        "!mkdir yolo_labels\n",
        "!kaggle datasets download -d awsaf49/vinbigdata-yolo-labels-dataset\n",
        "!kaggle datasets download -d awsaf49/vinbigdata-512-image-dataset\n",
        "\n",
        "!unzip -d /content/yolo_labels /content/vinbigdata-yolo-labels-dataset.zip\n",
        "!unzip /content/vinbigdata-512-image-dataset.zip\n",
        "\n",
        "!rm /content/vinbigdata-512-image-dataset.zip\n",
        "!rm /content/vinbigdata-yolo-labels-dataset.zip"
      ],
      "metadata": {
        "id": "eXDbM8u2gnij"
      },
      "execution_count": null,
      "outputs": []
    },
    {
      "cell_type": "markdown",
      "source": [
        "라이브러리 불러오기"
      ],
      "metadata": {
        "id": "D0HJIVchhE3n"
      }
    },
    {
      "cell_type": "code",
      "source": [
        "!pip install albumentations==0.4.6\n",
        "import albumentations \n",
        "from albumentations.pytorch import ToTensorV2"
      ],
      "metadata": {
        "id": "j5tmbRlneCm6"
      },
      "execution_count": null,
      "outputs": []
    },
    {
      "cell_type": "code",
      "source": [
        "import pandas as pd\n",
        "import numpy as np\n",
        "import cv2\n",
        "import os\n",
        "import re\n",
        "import time\n",
        "import json\n",
        "import os\n",
        "import glob\n",
        "from PIL import Image\n",
        "from tqdm import tqdm\n",
        "\n",
        "import imgaug.augmenters as iaa\n",
        "from sklearn.model_selection import GroupKFold\n",
        "\n",
        "import albumentations as A\n",
        "from albumentations.pytorch.transforms import ToTensorV2\n",
        "\n",
        "import torch\n",
        "import torchvision\n",
        "\n",
        "from torchvision.models.detection.faster_rcnn import FastRCNNPredictor\n",
        "from torchvision.models.detection import FasterRCNN\n",
        "\n",
        "from torch.utils.data import DataLoader, Dataset\n",
        "\n",
        "from matplotlib import pyplot as plt\n",
        "from google.colab.patches import cv2_imshow\n"
      ],
      "metadata": {
        "id": "nlPkiwhgeCjQ"
      },
      "execution_count": 6,
      "outputs": []
    },
    {
      "cell_type": "markdown",
      "source": [
        "이미지 정보 들어있는 데이터프레임 핸들링"
      ],
      "metadata": {
        "id": "X-XW6l04hRee"
      }
    },
    {
      "cell_type": "markdown",
      "source": [
        "# 이미지 증강"
      ],
      "metadata": {
        "id": "Liq3RXYpegU3"
      }
    },
    {
      "cell_type": "markdown",
      "source": [
        "\n",
        "\n",
        "1. Rotation 90도\n",
        "\n",
        "2. Flip(horizontal)\n",
        "\n",
        "3. Zoomin 10%\n",
        "\n",
        "4. CLAHE(Contrast Limited Adaptive Histogram Equalization)\n",
        "\n",
        "5. EqualizeHist\n",
        "\n",
        "6. Cutmix\n",
        "\n",
        "++ Mosaic\n",
        "\n",
        "\n",
        "\n",
        "\n"
      ],
      "metadata": {
        "id": "4nUQUvIxhagc"
      }
    },
    {
      "cell_type": "markdown",
      "source": [
        "증강 이미지 생성"
      ],
      "metadata": {
        "id": "5st6TMRQjghf"
      }
    },
    {
      "cell_type": "code",
      "source": [
        "# 나중에 함수로 만들것.\n",
        "# 이미지 폴더 경로 넣기\n",
        "# input_path = \"Input your image path/*.image format(ex:jpg, png)\"\n",
        "# image_list = [f for f in glob.glob(input_path)]"
      ],
      "metadata": {
        "id": "DTq506eWfFT5"
      },
      "execution_count": null,
      "outputs": []
    },
    {
      "cell_type": "code",
      "source": [
        "path = '/content/aug_image'\n",
        "!mkdir /content/aug_image"
      ],
      "metadata": {
        "id": "TQWxHDAVfktQ"
      },
      "execution_count": null,
      "outputs": []
    },
    {
      "cell_type": "markdown",
      "source": [
        "## 1. Rotation 90도"
      ],
      "metadata": {
        "id": "imvmBAv6MxGK"
      }
    },
    {
      "cell_type": "code",
      "source": [
        "def rotation_image(path, image_list):\n",
        "    for path in image_list:\n",
        "        img = cv2.imread(path)\n",
        "        (h, w) = img.shape[:2]\n",
        "        (cX, cY) = (w/2, h/2)\n",
        "        M = cv2.getRotationMatrix2D((cX,cY), 90, 1.0)\n",
        "        rotated_img = cv2.warpAffine(img, M, (w,h))\n",
        "        img_name = path.split('/')[-1].split('.')[0]\n",
        "        cv2.imwrite(f'{path}/{img_name}'+'_rotated.png', rotated_img)\n"
      ],
      "metadata": {
        "id": "wnFywo96e3JS"
      },
      "execution_count": null,
      "outputs": []
    },
    {
      "cell_type": "markdown",
      "source": [
        "## 2. Flip(horizontal)"
      ],
      "metadata": {
        "id": "Y_AtQIqEM4_i"
      }
    },
    {
      "cell_type": "code",
      "source": [
        "def flip_image(path, image_list):\n",
        "    for path in image_list:\n",
        "        img = cv2.imread(path)\n",
        "        flipped_img = cv2.flip(img, 1) \n",
        "        img_name = path.split('/')[-1].split('.')[0]\n",
        "        cv2.imwrite(f'{path}/{img_name}'+'_flip.png', flipped_img)"
      ],
      "metadata": {
        "id": "e4wMyoyle3LN"
      },
      "execution_count": null,
      "outputs": []
    },
    {
      "cell_type": "markdown",
      "source": [
        "## 3. Zoomin 10%"
      ],
      "metadata": {
        "id": "HHyfg_6yM79B"
      }
    },
    {
      "cell_type": "code",
      "source": [
        "def zoom_image(path, image_list):\n",
        "    for path in image_list:\n",
        "        img = cv2.imread(path)\n",
        "        augment_img_zoom = iaa.Affine(scale=(1.1))\n",
        "        zoom_image = augment_img_zoom.augment_image(img)\n",
        "        img_name = path.split('/')[-1].split('.')[0]\n",
        "        cv2.imwrite(f'{path}/{img_name}'+'_zoom.png', zoom_image)\n",
        "\n",
        "# zoom_image(image_list)"
      ],
      "metadata": {
        "id": "JQhcXYM5e3Ht"
      },
      "execution_count": null,
      "outputs": []
    },
    {
      "cell_type": "markdown",
      "source": [
        "## 4. CLAHE(Contrast Limited Adaptive Histogram Equalization)"
      ],
      "metadata": {
        "id": "qXvf786NNEQl"
      }
    },
    {
      "cell_type": "code",
      "source": [
        "def clahe_image(path, image_list):\n",
        "    clahe = cv2.createCLAHE(clipLimit=2.0, tileGridSize=(8,8))\n",
        "    for path in image_list:\n",
        "        img = cv2.imread(path, cv2.IMREAD_GRAYSCALE)\n",
        "        clahe_img = clahe.apply(img)\n",
        "        img_name = path.split('/')[-1].split('.')[0]\n",
        "        cv2.imwrite(f'{path}/{img_name}'+'_clahe.png', clahe_img)"
      ],
      "metadata": {
        "id": "pWwZJjbVeChS"
      },
      "execution_count": null,
      "outputs": []
    },
    {
      "cell_type": "markdown",
      "source": [
        "## 5. EqualizeHist"
      ],
      "metadata": {
        "id": "qbrNHk0WNF3w"
      }
    },
    {
      "cell_type": "code",
      "source": [
        "def equ_image(path, image_list):\n",
        "    for path in image_list:\n",
        "        img = cv2.imread(path, cv2.IMREAD_GRAYSCALE)\n",
        "        equ_img = cv2.equalizeHist(img)\n",
        "        img_name = path.split('/')[-1].split('.')[0]\n",
        "        cv2.imwrite(f'{path}/{img_name}'+'_equ.png', equ_img)"
      ],
      "metadata": {
        "id": "dml4aHASe3NI"
      },
      "execution_count": null,
      "outputs": []
    },
    {
      "cell_type": "markdown",
      "source": [
        "## 6. Cutmix"
      ],
      "metadata": {
        "id": "ljkI5JHaNJo-"
      }
    },
    {
      "cell_type": "code",
      "source": [
        "# 하나의 함수로 만들어보기.\n",
        "\n",
        "def rand_bbox(size, lamb):\n",
        "    W = size[0]\n",
        "    H = size[1]\n",
        "    cut_rat = np.sqrt(1. - lamb)\n",
        "    cut_w = np.int(W * cut_rat)\n",
        "    cut_h = np.int(H * cut_rat)\n",
        "\n",
        "    # uniform\n",
        "    cx = np.random.randint(W)\n",
        "    cy = np.random.randint(H)\n",
        "\n",
        "    bbx1 = np.clip(cx - cut_w // 2, 0, W)\n",
        "    bby1 = np.clip(cy - cut_h // 2, 0, H)\n",
        "    bbx2 = np.clip(cx + cut_w // 2, 0, W)\n",
        "    bby2 = np.clip(cy + cut_h // 2, 0, H)\n",
        "\n",
        "    return bbx1, bby1, bbx2, bby2\n",
        "\n",
        "\n",
        "# REAL\n",
        "# 우린 그럼 n_images를 4가아닌 총 images개수로 바꿔줘야겠지!\n",
        "# Create batch of 4394 images\n",
        "from tqdm import tqdm\n",
        "def make_img_batch_labels(image_list):\n",
        "    image_batch = []\n",
        "    image_batch_labels = []\n",
        "    n_images = len(image_list)\n",
        "\n",
        "    for i in tqdm(range(n_images)):\n",
        "        image = cv2.cvtColor(cv2.imread(image_list[i]), cv2.COLOR_BGR2RGB)\n",
        "        image_batch.append(image)\n",
        "    \n",
        "        label_temp = list(np.floor(np.random.rand(1)*2.99).astype(int))[0]\n",
        "        if label_temp == 0:\n",
        "            label = [1,0,0]\n",
        "        elif label_temp == 1:\n",
        "            label = [0,1,0]\n",
        "        else: # label_temp == 2\n",
        "            label = [0,0,1]\n",
        "    \n",
        "        image_batch_labels.append(label)\n",
        "\n",
        "    # Convert image_batch to numpy array\n",
        "    image_batch = np.array(image_batch) \n",
        "    # Conver image_batch_labels to numpy array\n",
        "    image_batch_labels = np.array(image_batch_labels) \n",
        "    \n",
        "    return image_batch, image_batch_labels\n",
        "\n",
        "\n",
        "\n",
        "def generate_cutmix_image(image_batch, image_batch_labels, beta):\n",
        "    \"\"\" Generate a CutMix augmented image from a batch \n",
        "    Args:\n",
        "        - image_batch: a batch of input images\n",
        "        - image_batch_labels: labels corresponding to the image batch\n",
        "        - beta: a parameter of Beta distribution.\n",
        "    Returns:\n",
        "        - CutMix image batch, updated labels\n",
        "    \"\"\"\n",
        "    # generate mixed sample\n",
        "    lam = np.random.beta(beta, beta)\n",
        "    rand_index = np.random.permutation(len(image_batch))\n",
        "    target_a = image_batch_labels\n",
        "    target_b = image_batch_labels[rand_index]\n",
        "    bbx1, bby1, bbx2, bby2 = rand_bbox(image_batch[0].shape, lam)\n",
        "    image_batch_updated = image_batch.copy()\n",
        "    image_batch_updated[:, bbx1:bbx2, bby1:bby2, :] = image_batch[rand_index, bbx1:bbx2, bby1:bby2, :]\n",
        "    \n",
        "    # adjust lambda to exactly match pixel ratio\n",
        "    lam = 1 - ((bbx2 - bbx1) * (bby2 - bby1) / (image_batch.shape[1] * image_batch.shape[2]))\n",
        "    label = target_a * lam + target_b * (1. - lam)\n",
        "    \n",
        "    return image_batch_updated, label\n",
        "\n",
        "\n",
        "\n",
        "image_batch, image_batch_labels = make_img_batch_labels(image_list)\n",
        "image_batch_updated, image_batch_labels_updated = generate_cutmix_image(image_batch, image_batch_labels, 0.6)\n",
        "\n",
        "def cutmix_image(image_list):\n",
        "    for i,path in tqdm(enumerate(image_list)):\n",
        "        image = image_batch_updated[i]\n",
        "        img_name = path.split('/')[-1].split('.')[0]\n",
        "        cv2.imwrite(f\"/content/aug_image/{img_name}_cutmix.png\", image)\n",
        "\n",
        "# cutmix_image(image_list)\n",
        "\n",
        "\n"
      ],
      "metadata": {
        "id": "Tai2w9iJnfR4"
      },
      "execution_count": null,
      "outputs": []
    }
  ]
}
